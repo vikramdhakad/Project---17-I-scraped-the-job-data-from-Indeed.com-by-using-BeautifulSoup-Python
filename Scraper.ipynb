{
 "cells": [
  {
   "cell_type": "markdown",
   "id": "a2232165-2560-4ad2-9aa0-1029f466395a",
   "metadata": {},
   "source": [
    "## Import Required libraries"
   ]
  },
  {
   "cell_type": "code",
   "execution_count": 31,
   "id": "d056d73f-0467-461a-8c87-9e53d0f2358a",
   "metadata": {},
   "outputs": [],
   "source": [
    "import pandas as pd\n",
    "import requests\n",
    "from bs4 import BeautifulSoup\n",
    "from lxml import etree\n",
    "import numpy as np"
   ]
  },
  {
   "cell_type": "code",
   "execution_count": 32,
   "id": "450ef226-f84b-43c7-9c29-0d2f83480b26",
   "metadata": {},
   "outputs": [],
   "source": [
    "headers = {'User-Agent':'Mozilla/5.0 (Windows NT 10.0; Win64; x64) AppleWebKit/537.36 (KHTML, like Gecko) Chrome/124.0.0.0 Safari/537.36'}\n",
    "webpage = requests.get(url='https://in.indeed.com/jobs?q=web+scraping&l=india&from=searchOnDesktopSerp&vjk=a07c199756e596ba', headers=headers)"
   ]
  },
  {
   "cell_type": "code",
   "execution_count": 33,
   "id": "12b86b13-ba19-4458-a41d-53f53dabd2d0",
   "metadata": {},
   "outputs": [],
   "source": [
    "soup = BeautifulSoup(webpage.content, 'html.parser')"
   ]
  },
  {
   "cell_type": "code",
   "execution_count": 34,
   "id": "56ae0609-9e3b-4c92-951d-b5e13bfd4505",
   "metadata": {},
   "outputs": [],
   "source": [
    "dom = etree.HTML(str(soup))"
   ]
  },
  {
   "cell_type": "markdown",
   "id": "efa65725-31c6-40c9-9246-511ae5d6becb",
   "metadata": {},
   "source": [
    "## Scraping the data from Indeed.com"
   ]
  },
  {
   "cell_type": "code",
   "execution_count": 35,
   "id": "e5d922ba-e493-4adb-8bc2-04b7bd8d230e",
   "metadata": {},
   "outputs": [],
   "source": [
    "Job = []\n",
    "companies = []\n",
    "Locations = []\n",
    "post_date = []\n",
    "name = (dom.xpath(\"//h2[@tabindex='-1']/a/span/text()\"))\n",
    "for nam in name:\n",
    "    try:\n",
    "        Job.append(nam)\n",
    "    except:\n",
    "        Job.append(np.nan)\n",
    "\n",
    "company = (dom.xpath(\"//span[@class='css-92r8pb eu4oa1w0']/text()\"))\n",
    "for com in company:\n",
    "    try:\n",
    "        companies.append(com)\n",
    "    except:\n",
    "        companies.append(np.nan)\n",
    "\n",
    "location = (dom.xpath(\"//div[@class='css-1p0sjhy eu4oa1w0']/text()\"))\n",
    "for loc in location:\n",
    "    try:\n",
    "        Locations.append(loc)\n",
    "    except:\n",
    "        Locations.append(np.nan)\n",
    "\n",
    "post = (dom.xpath(\"//span[@class='css-qvloho eu4oa1w0']/text()\"))\n",
    "for pst in post:\n",
    "    try:\n",
    "        post_date.append(pst)\n",
    "    except:\n",
    "        post_date.append(np.nan)"
   ]
  },
  {
   "cell_type": "markdown",
   "id": "befde66d-d737-4cdc-a16c-a3e834328ade",
   "metadata": {},
   "source": [
    "## Create data frome for storing structured data in the table"
   ]
  },
  {
   "cell_type": "code",
   "execution_count": 41,
   "id": "7b49041c-2f55-4d9f-a5e4-ee023b5c54bc",
   "metadata": {},
   "outputs": [],
   "source": [
    "\n",
    "Final = pd.DataFrame()\n",
    "Final[\"Job title\"]=Job\n",
    "Final[\"Company Name\"]=companies\n",
    "Final[\"Post Day\"]=post_date\n"
   ]
  },
  {
   "cell_type": "code",
   "execution_count": 44,
   "id": "fe8c3316-ba73-47b7-8659-308c5fde957a",
   "metadata": {},
   "outputs": [
    {
     "data": {
      "text/html": [
       "<div>\n",
       "<style scoped>\n",
       "    .dataframe tbody tr th:only-of-type {\n",
       "        vertical-align: middle;\n",
       "    }\n",
       "\n",
       "    .dataframe tbody tr th {\n",
       "        vertical-align: top;\n",
       "    }\n",
       "\n",
       "    .dataframe thead th {\n",
       "        text-align: right;\n",
       "    }\n",
       "</style>\n",
       "<table border=\"1\" class=\"dataframe\">\n",
       "  <thead>\n",
       "    <tr style=\"text-align: right;\">\n",
       "      <th></th>\n",
       "      <th>Job title</th>\n",
       "      <th>Company Name</th>\n",
       "      <th>Post Day</th>\n",
       "    </tr>\n",
       "  </thead>\n",
       "  <tbody>\n",
       "    <tr>\n",
       "      <th>0</th>\n",
       "      <td>Web Scraping Expert (Scrapy)</td>\n",
       "      <td>FullStackTechies</td>\n",
       "      <td>Active 3 days ago</td>\n",
       "    </tr>\n",
       "    <tr>\n",
       "      <th>1</th>\n",
       "      <td>Associate / Software - Engineer- Web Scraping ...</td>\n",
       "      <td>Promptcloud</td>\n",
       "      <td>Posted 30+ days ago</td>\n",
       "    </tr>\n",
       "    <tr>\n",
       "      <th>2</th>\n",
       "      <td>Engineer / Senior Engineer/ Manager (Web Scrap...</td>\n",
       "      <td>NielsenIQ</td>\n",
       "      <td>Posted 30+ days ago</td>\n",
       "    </tr>\n",
       "    <tr>\n",
       "      <th>3</th>\n",
       "      <td>Python Developer (Web Scrapping)</td>\n",
       "      <td>Coleda B2B</td>\n",
       "      <td>Today</td>\n",
       "    </tr>\n",
       "    <tr>\n",
       "      <th>4</th>\n",
       "      <td>Data Engineering (Web scraping)</td>\n",
       "      <td>Taiyo.Ai</td>\n",
       "      <td>Active 11 days ago</td>\n",
       "    </tr>\n",
       "    <tr>\n",
       "      <th>5</th>\n",
       "      <td>AI/ML Engineer</td>\n",
       "      <td>Courtroom Insight, Inc.</td>\n",
       "      <td>Active 3 days ago</td>\n",
       "    </tr>\n",
       "    <tr>\n",
       "      <th>6</th>\n",
       "      <td>Python web scraping / Crawling / Job Id: ed6d ...</td>\n",
       "      <td>Gmware Private Limited</td>\n",
       "      <td>Just posted</td>\n",
       "    </tr>\n",
       "    <tr>\n",
       "      <th>7</th>\n",
       "      <td>Web Developer</td>\n",
       "      <td>SPY Graphix</td>\n",
       "      <td>Posted 19 days ago</td>\n",
       "    </tr>\n",
       "    <tr>\n",
       "      <th>8</th>\n",
       "      <td>Python Developer</td>\n",
       "      <td>Taiyo.Ai</td>\n",
       "      <td>Active 3 days ago</td>\n",
       "    </tr>\n",
       "    <tr>\n",
       "      <th>9</th>\n",
       "      <td>Web Scraping Engineer</td>\n",
       "      <td>InteleANTS</td>\n",
       "      <td>Posted 30+ days ago</td>\n",
       "    </tr>\n",
       "    <tr>\n",
       "      <th>10</th>\n",
       "      <td>Web Scraping Template Engineer</td>\n",
       "      <td>Manipal Dot Net</td>\n",
       "      <td>Posted 30+ days ago</td>\n",
       "    </tr>\n",
       "    <tr>\n",
       "      <th>11</th>\n",
       "      <td>Seeking Web Scraping Developer</td>\n",
       "      <td>Requisite Technologies Pvt Ltd</td>\n",
       "      <td>Active 6 days ago</td>\n",
       "    </tr>\n",
       "    <tr>\n",
       "      <th>12</th>\n",
       "      <td>Python Developer</td>\n",
       "      <td>Heptarc Technology Solution</td>\n",
       "      <td>Posted 30+ days ago</td>\n",
       "    </tr>\n",
       "    <tr>\n",
       "      <th>13</th>\n",
       "      <td>Node.js Engineer (Web Automation and Web Scrap...</td>\n",
       "      <td>DataWeave</td>\n",
       "      <td>Posted 30+ days ago</td>\n",
       "    </tr>\n",
       "    <tr>\n",
       "      <th>14</th>\n",
       "      <td>Data Analyst-Engineering &amp; Construction</td>\n",
       "      <td>Lloyd Insulations (India) Ltd</td>\n",
       "      <td>Active 4 days ago</td>\n",
       "    </tr>\n",
       "  </tbody>\n",
       "</table>\n",
       "</div>"
      ],
      "text/plain": [
       "                                            Job title  \\\n",
       "0                        Web Scraping Expert (Scrapy)   \n",
       "1   Associate / Software - Engineer- Web Scraping ...   \n",
       "2   Engineer / Senior Engineer/ Manager (Web Scrap...   \n",
       "3                    Python Developer (Web Scrapping)   \n",
       "4                     Data Engineering (Web scraping)   \n",
       "5                                      AI/ML Engineer   \n",
       "6   Python web scraping / Crawling / Job Id: ed6d ...   \n",
       "7                                       Web Developer   \n",
       "8                                    Python Developer   \n",
       "9                               Web Scraping Engineer   \n",
       "10                     Web Scraping Template Engineer   \n",
       "11                     Seeking Web Scraping Developer   \n",
       "12                                   Python Developer   \n",
       "13  Node.js Engineer (Web Automation and Web Scrap...   \n",
       "14            Data Analyst-Engineering & Construction   \n",
       "\n",
       "                      Company Name             Post Day  \n",
       "0                 FullStackTechies    Active 3 days ago  \n",
       "1                      Promptcloud  Posted 30+ days ago  \n",
       "2                        NielsenIQ  Posted 30+ days ago  \n",
       "3                       Coleda B2B                Today  \n",
       "4                         Taiyo.Ai   Active 11 days ago  \n",
       "5          Courtroom Insight, Inc.    Active 3 days ago  \n",
       "6           Gmware Private Limited          Just posted  \n",
       "7                      SPY Graphix   Posted 19 days ago  \n",
       "8                         Taiyo.Ai    Active 3 days ago  \n",
       "9                       InteleANTS  Posted 30+ days ago  \n",
       "10                 Manipal Dot Net  Posted 30+ days ago  \n",
       "11  Requisite Technologies Pvt Ltd    Active 6 days ago  \n",
       "12     Heptarc Technology Solution  Posted 30+ days ago  \n",
       "13                       DataWeave  Posted 30+ days ago  \n",
       "14   Lloyd Insulations (India) Ltd    Active 4 days ago  "
      ]
     },
     "execution_count": 44,
     "metadata": {},
     "output_type": "execute_result"
    }
   ],
   "source": [
    "Final"
   ]
  },
  {
   "cell_type": "markdown",
   "id": "a3e44b33-f5bd-4015-9ea1-92d07dce655b",
   "metadata": {},
   "source": [
    "## Data Import in the form of CSV file"
   ]
  },
  {
   "cell_type": "code",
   "execution_count": 43,
   "id": "62e210e8-0d36-4f71-8e41-d29df2e4b08d",
   "metadata": {},
   "outputs": [],
   "source": [
    "Final.to_csv(\"Indeed Jobs data.csv\")"
   ]
  },
  {
   "cell_type": "code",
   "execution_count": null,
   "id": "b55b9def-91ae-4013-abcf-5226a30e1e30",
   "metadata": {},
   "outputs": [],
   "source": []
  }
 ],
 "metadata": {
  "kernelspec": {
   "display_name": "Python 3 (ipykernel)",
   "language": "python",
   "name": "python3"
  },
  "language_info": {
   "codemirror_mode": {
    "name": "ipython",
    "version": 3
   },
   "file_extension": ".py",
   "mimetype": "text/x-python",
   "name": "python",
   "nbconvert_exporter": "python",
   "pygments_lexer": "ipython3",
   "version": "3.12.2"
  }
 },
 "nbformat": 4,
 "nbformat_minor": 5
}
